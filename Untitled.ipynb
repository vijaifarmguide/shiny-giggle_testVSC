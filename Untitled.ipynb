{
 "cells": [
  {
   "cell_type": "code",
   "execution_count": 4,
   "metadata": {},
   "outputs": [
    {
     "name": "stdout",
     "output_type": "stream",
     "text": [
      "skeeG rof skeeG"
     ]
    }
   ],
   "source": [
    "# Python program to reverse a string using recursion \n",
    "  \n",
    "# Function to print reverse of the passed string \n",
    "def reverse(string): \n",
    "    if len(string) == 0: \n",
    "        return\n",
    "      \n",
    "    temp = string[0] \n",
    "    reverse(string[1:]) \n",
    "    print(temp, end='') \n",
    "\n",
    "#Driver program to test above function \n",
    "string = \"Geeks for Geeks\"\n",
    "reverse(string) \n",
    "  \n",
    "# A single line statement to reverse string in python \n",
    "# string[::-1] \n",
    "  \n",
    "# This code is contributed by Bhavya Jain \n"
   ]
  },
  {
   "cell_type": "code",
   "execution_count": null,
   "metadata": {},
   "outputs": [],
   "source": []
  }
 ],
 "metadata": {
  "kernelspec": {
   "display_name": "Python 3",
   "language": "python",
   "name": "python3"
  },
  "language_info": {
   "codemirror_mode": {
    "name": "ipython",
    "version": 3
   },
   "file_extension": ".py",
   "mimetype": "text/x-python",
   "name": "python",
   "nbconvert_exporter": "python",
   "pygments_lexer": "ipython3",
   "version": "3.6.7"
  }
 },
 "nbformat": 4,
 "nbformat_minor": 2
}
