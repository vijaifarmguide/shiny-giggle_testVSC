{
 "cells": [
  {
   "cell_type": "code",
   "execution_count": null,
   "metadata": {},
   "outputs": [],
   "source": [
    "hash = hashfunc(key)\n",
    "index = hash % array_size\n",
    "# A hash function is any function that can be used to map a data set of an arbitrary size to a data set of a fixed size, which falls into the hash table. The values returned by a hash function are called hash values, hash codes, hash sums, or simply hashes."
   ]
  },
  {
   "cell_type": "code",
   "execution_count": 1,
   "metadata": {},
   "outputs": [
    {
     "name": "stdout",
     "output_type": "stream",
     "text": [
      "Minimum distance between 3 and 6 is 1\n",
      "\n"
     ]
    }
   ],
   "source": [
    "import sys \n",
    "  \n",
    "def minDist(arr, n, x, y): \n",
    "    min_dist = sys.maxsize \n",
    "  \n",
    "    #Find the first occurence of any of the two numbers (x or y) \n",
    "    # and store the index of this occurence in prev \n",
    "    for i in range(n): \n",
    "          \n",
    "        if arr[i] == x or arr[i] == y: \n",
    "            prev = i \n",
    "            break\n",
    "   \n",
    "    # Traverse after the first occurence \n",
    "    while i < n: \n",
    "        if arr[i] == x or arr[i] == y: \n",
    "  \n",
    "            # If the current element matches with any of the two then \n",
    "            # check if current element and prev element are different \n",
    "            # Also check if this value is smaller than minimm distance so far \n",
    "            if arr[prev] != arr[i] and (i - prev) < min_dist : \n",
    "                min_dist = i - prev \n",
    "                prev = i \n",
    "            else: \n",
    "                prev = i \n",
    "        i += 1        \n",
    "   \n",
    "    return min_dist \n",
    "   \n",
    "# Driver program to test above fnction */ \n",
    "arr = [3, 5, 4, 2, 6, 3, 0, 0, 5, 4, 8, 3] \n",
    "n = len(arr) \n",
    "x = 3\n",
    "y = 6\n",
    "print (\"Minimum distance between %d and %d is %d\\n\"%( x, y,minDist(arr, n, x, y))); \n",
    "  \n",
    "# This code is contributed by Shreyanshi Arun. \n"
   ]
  },
  {
   "cell_type": "code",
   "execution_count": 15,
   "metadata": {
    "collapsed": true,
    "jupyter": {
     "outputs_hidden": true
    }
   },
   "outputs": [
    {
     "name": "stdout",
     "output_type": "stream",
     "text": [
      "12\n",
      "0 11 11 0\n",
      "0 10 11 3 8 33\n",
      "1 10 10 5 8 33\n",
      "2 10 9 4 8 45\n",
      "3 10 8 2 8 45\n",
      "4 10 7 6 8 45\n",
      "5 10 6 3 8 45\n",
      "6 10 5 0 8 45\n",
      "7 10 4 0 8 45\n",
      "8 10 3 5 8 45\n",
      "9 10 2 4 8 45\n",
      "10 10 1 8 8 45\n"
     ]
    },
    {
     "data": {
      "text/plain": [
       "45"
      ]
     },
     "execution_count": 15,
     "metadata": {},
     "output_type": "execute_result"
    }
   ],
   "source": [
    "# Driver program to test above fnction */ \n",
    "height = [3, 5, 4, 2, 6, 3, 0, 0, 5, 4, 8, 3] \n",
    "n = len(height)\n",
    "print(n)\n",
    "def maxArea(height):\n",
    "#     \"\"\"\n",
    "#     :type height: List[int]\n",
    "#     :rtype: int\n",
    "#     \"\"\"\n",
    "    L, R, width, res = 0, len(height) - 1, len(height) - 1, 0\n",
    "    print(L, R, width, res)\n",
    "    for w in range(width, 0, -1):\n",
    "        if height[L] < height[R]:\n",
    "            res, L = max(res, height[L] * w), L + 1\n",
    "        else:\n",
    "            res, R = max(res, height[R] * w), R - 1\n",
    "        print(L, R, w, height[L] , height[R],res)\n",
    "    return res\n",
    "maxArea(height)    "
   ]
  },
  {
   "cell_type": "code",
   "execution_count": 7,
   "metadata": {},
   "outputs": [],
   "source": [
    "def maxArea(height):\n",
    "    max_area = area = 0\n",
    "    left, right = 0, len(height) - 1\n",
    "    print(\"left  right . l . r . area . max_area\")\n",
    "    while left < right:\n",
    "        l, r = height[left], height[right]\n",
    "        if l < r:\n",
    "            area = (right - left) * l\n",
    "            while height[left] <= l:\n",
    "                left += 1\n",
    "        else:\n",
    "            area = (right - left) * r\n",
    "            while height[right] <= r and right:\n",
    "                right -= 1\n",
    "        if area > max_area:\n",
    "            max_area = area\n",
    "        print(left,right,l,r,area,max_area)\n",
    "    return max_area"
   ]
  },
  {
   "cell_type": "code",
   "execution_count": 8,
   "metadata": {},
   "outputs": [
    {
     "name": "stdout",
     "output_type": "stream",
     "text": [
      "left  right . l . r . area . max_area\n",
      "0 10 3 3 33 33\n",
      "1 10 3 8 30 33\n",
      "4 10 5 8 45 45\n",
      "10 10 6 8 36 45\n"
     ]
    },
    {
     "data": {
      "text/plain": [
       "45"
      ]
     },
     "execution_count": 8,
     "metadata": {},
     "output_type": "execute_result"
    }
   ],
   "source": [
    "maxArea(height)    "
   ]
  },
  {
   "cell_type": "code",
   "execution_count": null,
   "metadata": {},
   "outputs": [],
   "source": [
    "height = [3, 5, 4, 2, 6, 3, 0, 0, 5, 4, 8, 3] \n"
   ]
  },
  {
   "cell_type": "code",
   "execution_count": 51,
   "metadata": {},
   "outputs": [
    {
     "name": "stdout",
     "output_type": "stream",
     "text": [
      "I 0\n",
      "-1 1 1 1 1\n",
      "-1 2 1 1 2\n"
     ]
    },
    {
     "data": {
      "text/plain": [
       "3"
      ]
     },
     "execution_count": 51,
     "metadata": {},
     "output_type": "execute_result"
    }
   ],
   "source": [
    "class Solution(object):\n",
    "    def romanToInt(self, ip):\n",
    "        \"\"\"\n",
    "        :type s: str\n",
    "        :rtype: int\n",
    "        \"\"\"\n",
    "        bases={'I':1,\n",
    "        'V':5,\n",
    "        'X':10,\n",
    "        'L':50,\n",
    "        'C':100,\n",
    "        'D':500,\n",
    "        'M':1000}\n",
    "        for s in list(bases.keys())[::-1]:\n",
    "              if(s in ip):\n",
    "                    gi,idx=s,ip.index(s)\n",
    "                    break\n",
    "        print(gi,idx)            \n",
    "        L,R=idx-1,idx+1\n",
    "        number=bases[gi]\n",
    "        while(True):\n",
    "            # print(L,R,bases[ip[L]],bases[ip[R]],number)\n",
    "            if(L>0):\n",
    "                number-=bases[ip[L]]\n",
    "                L-=1\n",
    "            if(R<len(ip)):\n",
    "                number+=bases[ip[R]]\n",
    "                R+=1\n",
    "                \n",
    "            if( (L>0) & (R<len(ip))):\n",
    "                break\n",
    "        return number"
   ]
  },
  {
   "cell_type": "code",
   "execution_count": 48,
   "metadata": {},
   "outputs": [
    {
     "ename": "KeyError",
     "evalue": "1",
     "output_type": "error",
     "traceback": [
      "\u001b[0;31m---------------------------------------------------------------------------\u001b[0m",
      "\u001b[0;31mKeyError\u001b[0m                                  Traceback (most recent call last)",
      "\u001b[0;32m<ipython-input-48-858d85b3f9fb>\u001b[0m in \u001b[0;36m<module>\u001b[0;34m\u001b[0m\n\u001b[0;32m----> 1\u001b[0;31m \u001b[0mbases\u001b[0m\u001b[0;34m[\u001b[0m\u001b[0mR\u001b[0m\u001b[0;34m]\u001b[0m\u001b[0;34m\u001b[0m\u001b[0;34m\u001b[0m\u001b[0m\n\u001b[0m",
      "\u001b[0;31mKeyError\u001b[0m: 1"
     ]
    }
   ],
   "source": [
    "bases[R]"
   ]
  },
  {
   "cell_type": "code",
   "execution_count": 49,
   "metadata": {},
   "outputs": [
    {
     "data": {
      "text/plain": [
       "1"
      ]
     },
     "execution_count": 49,
     "metadata": {},
     "output_type": "execute_result"
    }
   ],
   "source": [
    "R"
   ]
  },
  {
   "cell_type": "code",
   "execution_count": null,
   "metadata": {},
   "outputs": [],
   "source": []
  }
 ],
 "metadata": {
  "kernelspec": {
   "display_name": "Python 3",
   "language": "python",
   "name": "python3"
  },
  "language_info": {
   "codemirror_mode": {
    "name": "ipython",
    "version": 3
   },
   "file_extension": ".py",
   "mimetype": "text/x-python",
   "name": "python",
   "nbconvert_exporter": "python",
   "pygments_lexer": "ipython3",
   "version": "3.6.7"
  }
 },
 "nbformat": 4,
 "nbformat_minor": 4
}
